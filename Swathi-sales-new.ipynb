{
 "cells": [
  {
   "cell_type": "markdown",
   "metadata": {},
   "source": [
    "### Packages and Settings"
   ]
  },
  {
   "cell_type": "code",
   "execution_count": 1,
   "metadata": {
    "_cell_guid": "b1076dfc-b9ad-4769-8c92-a6c4dae69d19",
    "_uuid": "8f2839f25d086af736a60e9eeb907d3b93b6e0e5"
   },
   "outputs": [
    {
     "data": {
      "text/plain": [
       "sys.version_info(major=3, minor=8, micro=3, releaselevel='final', serial=0)"
      ]
     },
     "execution_count": 1,
     "metadata": {},
     "output_type": "execute_result"
    }
   ],
   "source": [
    "# System pacakges\n",
    "import os\n",
    "import sys\n",
    "import re\n",
    "import gc\n",
    "import time\n",
    "import datetime\n",
    "import warnings\n",
    "\n",
    "# Data pacakges\n",
    "import pickle\n",
    "import numpy as np\n",
    "import pandas as pd\n",
    "from itertools import product\n",
    "import seaborn as sns\n",
    "import matplotlib.pyplot as plt\n",
    "\n",
    "# Modelling pacakges\n",
    "from sklearn import datasets, linear_model\n",
    "from sklearn.metrics import mean_squared_error\n",
    "from sklearn import preprocessing\n",
    "from sklearn.ensemble import RandomForestRegressor\n",
    "\n",
    "# Pacakge settings\n",
    "%matplotlib inline\n",
    "sns.set(style=\"darkgrid\")\n",
    "warnings.filterwarnings(\"ignore\")\n",
    "pd.set_option('display.max_rows', 500)\n",
    "pd.set_option('display.max_columns', 100)\n",
    "pd.set_option('display.float_format', lambda x: '%.2f' % x)\n",
    "sys.version_info"
   ]
  },
  {
   "cell_type": "markdown",
   "metadata": {},
   "source": [
    "### Load data"
   ]
  },
  {
   "cell_type": "code",
   "execution_count": 2,
   "metadata": {},
   "outputs": [],
   "source": [
    "train = pd.read_csv(\"/Users/roblespaeza96/Desktop/DT Certificate /Caps/capstone-project/sales_train.csv\")\n",
    "items = pd.read_csv(\"/Users/roblespaeza96/Desktop/DT Certificate /Caps/capstone-project/items.csv\")\n",
    "# Drop name to save space\n",
    "items = items.drop('item_name', axis=1)\n",
    "# Set index to ID to avoid droping it later\n",
    "test  = pd.read_csv(\"/Users/roblespaeza96/Desktop/DT Certificate /Caps/capstone-project/test.csv\").set_index('ID')\n",
    "# Add date_block_num = 34\n",
    "test['date_block_num'] = 34\n"
   ]
  },
  {
   "cell_type": "markdown",
   "metadata": {},
   "source": [
    "### Compress data size"
   ]
  },
  {
   "cell_type": "code",
   "execution_count": 3,
   "metadata": {},
   "outputs": [
    {
     "name": "stdout",
     "output_type": "stream",
     "text": [
      "-------------------------------------------------------\n",
      "train:\n",
      "date: 01.01.2013 ~ 31.12.2014\n",
      "date_block_num: 0 ~ 33\n",
      "shop_id: 0 ~ 59\n",
      "item_id: 0 ~ 22169\n",
      "item_price: -1.0 ~ 307980.0\n",
      "item_cnt_day: -22.0 ~ 2169.0\n",
      "-------------------------------------------------------\n",
      "items:\n",
      "item_id: 0 ~ 22169\n",
      "item_category_id: 0 ~ 83\n",
      "-------------------------------------------------------\n",
      "test:\n",
      "shop_id: 2 ~ 59\n",
      "item_id: 30 ~ 22167\n",
      "date_block_num: 34 ~ 34\n"
     ]
    }
   ],
   "source": [
    "# Get the ranges of each feature to select the most appropriate data size\n",
    "print ('-------------------------------------------------------')\n",
    "print ('train:')\n",
    "for f in train.columns.values:\n",
    "    print ('%s: %s ~ %s' %(f, train[f].min(), train[f].max()))\n",
    "print ('-------------------------------------------------------')\n",
    "print ('items:')\n",
    "for f in items.columns.values:\n",
    "    print ('%s: %s ~ %s' %(f, items[f].min(), items[f].max()))\n",
    "print ('-------------------------------------------------------')\n",
    "print ('test:')\n",
    "for f in test.columns.values:\n",
    "    print ('%s: %s ~ %s' %(f, test[f].min(), test[f].max()))"
   ]
  },
  {
   "cell_type": "code",
   "execution_count": 4,
   "metadata": {},
   "outputs": [],
   "source": [
    "def compress_columns(df,columns,keyword,search_type,datatype):\n",
    "    if search_type=='in':\n",
    "        valid_features = [x for x in columns if keyword in x]\n",
    "    elif search_type=='start':\n",
    "        valid_features = [x for x in columns if x.startswith(keyword)]\n",
    "    if len(valid_features):\n",
    "        for f in valid_features:\n",
    "            df[f] = df[f].round().astype(datatype)\n",
    "    return df\n",
    "\n",
    "def data_compression(df):\n",
    "    features = df.columns.values\n",
    "    # Original features\n",
    "    if 'date_block_num' in features:\n",
    "        df['date_block_num'] = df['date_block_num'].astype(np.int8)\n",
    "    if 'shop_id' in features:\n",
    "        df['shop_id'] = df['shop_id'].astype(np.int8)\n",
    "    if 'item_category_id' in features:\n",
    "        df['item_category_id'] = df['item_category_id'].astype(np.int8)\n",
    "    if 'item_id' in features:\n",
    "        df['item_id'] = df['item_id'].astype(np.int16)\n",
    "    if 'item_price' in features:\n",
    "        df['item_price'] = df['item_price'].astype(np.float32)\n",
    "    if 'item_id_avg_item_price' in features:\n",
    "        df['item_id_avg_item_price'] = df['item_id_avg_item_price'].astype(np.float32)\n",
    "        \n",
    "    # Mean encoded features & lag features\n",
    "    df = compress_columns(df,features,'item_id_sum_item_cnt_day','in',np.int16)\n",
    "    df = compress_columns(df,features,'item_id_avg_item_cnt_day','in',np.float16)\n",
    "    \n",
    "    df = compress_columns(df,features,'shop_id_avg_item_price','in',np.float16)\n",
    "    df = compress_columns(df,features,'shop_id_sum_item_cnt_day','in',np.int16)\n",
    "    df = compress_columns(df,features,'shop_id_avg_item_cnt_day','in',np.float16)\n",
    "    \n",
    "    df = compress_columns(df,features,'item_category_id_avg_item_price','in',np.float16)\n",
    "    df = compress_columns(df,features,'item_category_id_sum_item_cnt_day','in',np.int32)\n",
    "    df = compress_columns(df,features,'item_category_id_avg_item_cnt_day','in',np.float16)\n",
    "    \n",
    "    df = compress_columns(df,features,'item_cnt_day','start',np.int16)\n",
    "    return df"
   ]
  },
  {
   "cell_type": "code",
   "execution_count": 5,
   "metadata": {},
   "outputs": [],
   "source": [
    "# Compress features according to range\n",
    "train = data_compression(train)\n",
    "items = data_compression(items)\n",
    "test = data_compression(test)"
   ]
  },
  {
   "cell_type": "code",
   "execution_count": 6,
   "metadata": {},
   "outputs": [],
   "source": [
    "# Include Category id\n",
    "train = pd.merge(train,items,on='item_id',how='left')\n",
    "test = pd.merge(test,items, on='item_id', how='left')"
   ]
  },
  {
   "cell_type": "code",
   "execution_count": 7,
   "metadata": {},
   "outputs": [],
   "source": [
    "#Merge duplicated shops\n",
    "train.loc[train.shop_id == 0, 'shop_id'] = 57\n",
    "test.loc[test.shop_id == 0, 'shop_id'] = 57\n",
    "\n",
    "train.loc[train.shop_id == 1, 'shop_id'] = 58\n",
    "test.loc[test.shop_id == 1, 'shop_id'] = 58\n",
    "\n",
    "train.loc[train.shop_id == 10, 'shop_id'] = 11\n",
    "test.loc[test.shop_id == 10, 'shop_id'] = 11"
   ]
  },
  {
   "cell_type": "markdown",
   "metadata": {},
   "source": [
    "### Check Feature Distributions"
   ]
  },
  {
   "cell_type": "code",
   "execution_count": 8,
   "metadata": {},
   "outputs": [
    {
     "name": "stdout",
     "output_type": "stream",
     "text": [
      "<class 'pandas.core.frame.DataFrame'>\n",
      "Int64Index: 2935849 entries, 0 to 2935848\n",
      "Data columns (total 7 columns):\n",
      " #   Column            Dtype  \n",
      "---  ------            -----  \n",
      " 0   date              object \n",
      " 1   date_block_num    int8   \n",
      " 2   shop_id           int8   \n",
      " 3   item_id           int16  \n",
      " 4   item_price        float32\n",
      " 5   item_cnt_day      int16  \n",
      " 6   item_category_id  int8   \n",
      "dtypes: float32(1), int16(2), int8(3), object(1)\n",
      "memory usage: 75.6+ MB\n"
     ]
    }
   ],
   "source": [
    "train.info()"
   ]
  },
  {
   "cell_type": "markdown",
   "metadata": {},
   "source": [
    "**Plot the feature distributions**"
   ]
  },
  {
   "cell_type": "code",
   "execution_count": 9,
   "metadata": {},
   "outputs": [
    {
     "data": {
      "image/png": "[encoded data removed]",
      "text/plain": [
       "<Figure size 720x288 with 1 Axes>"
      ]
     },
     "metadata": {},
     "output_type": "display_data"
    },
    {
     "data": {
      "image/png": "[encoded data removed]",
      "text/plain": [
       "<Figure size 720x288 with 1 Axes>"
      ]
     },
     "metadata": {},
     "output_type": "display_data"
    },
    {
     "data": {
      "image/png": "[encoded data removed]",
      "text/plain": [
       "<Figure size 720x288 with 1 Axes>"
      ]
     },
     "metadata": {},
     "output_type": "display_data"
    },
    {
     "data": {
      "image/png": "[encoded data removed]",
      "text/plain": [
       "<Figure size 720x288 with 1 Axes>"
      ]
     },
     "metadata": {},
     "output_type": "display_data"
    },
    {
     "data": {
      "image/png": "[encoded data removed]",
      "text/plain": [
       "<Figure size 720x288 with 1 Axes>"
      ]
     },
     "metadata": {},
     "output_type": "display_data"
    },
    {
     "data": {
      "image/png": "[encoded data removed]",
      "text/plain": [
       "<Figure size 720x288 with 1 Axes>"
      ]
     },
     "metadata": {},
     "output_type": "display_data"
    }
   ],
   "source": [
    "def box_plot(df,f):\n",
    "    plt.figure(figsize=(10,4))\n",
    "    plt.title(f+' distribution')\n",
    "    x_min = int(df[f].min() - (abs(df[f].min())*0.1))\n",
    "    x_max = int(df[f].max() + (abs(df[f].max())*0.1))\n",
    "    if x_min==0:\n",
    "        x_min = -1\n",
    "    if x_max==0:\n",
    "        x_max = 1\n",
    "    plt.xlim(x_min,x_max)\n",
    "    sns.boxplot(x=df[f])\n",
    "\n",
    "plot_features = [x for x in train.columns.values if train[x].dtype != 'object']\n",
    "for f in plot_features:\n",
    "    box_plot(train,f)"
   ]
  },
  {
   "cell_type": "markdown",
   "metadata": {},
   "source": [
    "### Outliers removal"
   ]
  },
  {
   "cell_type": "code",
   "execution_count": 10,
   "metadata": {},
   "outputs": [
    {
     "data": {
      "image/png": "[encoded data removed]",
      "text/plain": [
       "<Figure size 720x288 with 1 Axes>"
      ]
     },
     "metadata": {},
     "output_type": "display_data"
    },
    {
     "data": {
      "image/png": "[encoded data removed]",
      "text/plain": [
       "<Figure size 720x288 with 1 Axes>"
      ]
     },
     "metadata": {},
     "output_type": "display_data"
    }
   ],
   "source": [
    "# Getting rid of the outliers & negative values\n",
    "train = train[(train['item_price']<100000) & (train['item_price']>=0)]\n",
    "train = train[(train['item_cnt_day']<1000) & (train['item_cnt_day']>=0)]\n",
    "\n",
    "# distribution after outliers removal\n",
    "plot_features = ['item_price','item_cnt_day']\n",
    "for f in plot_features:\n",
    "    box_plot(train,f)"
   ]
  },
  {
   "cell_type": "markdown",
   "metadata": {},
   "source": [
    "### Create a dataframe of all Date_block_num, Store and Item combinations:\n",
    "So in case in the months some shops did not have the sale record of some item, it can be set to 0."
   ]
  },
  {
   "cell_type": "code",
   "execution_count": 11,
   "metadata": {},
   "outputs": [
    {
     "data": {
      "text/html": [
       "<div>\n",
       "<style scoped>\n",
       "    .dataframe tbody tr th:only-of-type {\n",
       "        vertical-align: middle;\n",
       "    }\n",
       "\n",
       "    .dataframe tbody tr th {\n",
       "        vertical-align: top;\n",
       "    }\n",
       "\n",
       "    .dataframe thead th {\n",
       "        text-align: right;\n",
       "    }\n",
       "</style>\n",
       "<table border=\"1\" class=\"dataframe\">\n",
       "  <thead>\n",
       "    <tr style=\"text-align: right;\">\n",
       "      <th></th>\n",
       "      <th>shop_id</th>\n",
       "      <th>item_id</th>\n",
       "      <th>date_block_num</th>\n",
       "    </tr>\n",
       "  </thead>\n",
       "  <tbody>\n",
       "    <tr>\n",
       "      <th>0</th>\n",
       "      <td>59</td>\n",
       "      <td>22154</td>\n",
       "      <td>0</td>\n",
       "    </tr>\n",
       "    <tr>\n",
       "      <th>1</th>\n",
       "      <td>59</td>\n",
       "      <td>2552</td>\n",
       "      <td>0</td>\n",
       "    </tr>\n",
       "    <tr>\n",
       "      <th>2</th>\n",
       "      <td>59</td>\n",
       "      <td>2554</td>\n",
       "      <td>0</td>\n",
       "    </tr>\n",
       "    <tr>\n",
       "      <th>3</th>\n",
       "      <td>59</td>\n",
       "      <td>2555</td>\n",
       "      <td>0</td>\n",
       "    </tr>\n",
       "    <tr>\n",
       "      <th>4</th>\n",
       "      <td>59</td>\n",
       "      <td>2564</td>\n",
       "      <td>0</td>\n",
       "    </tr>\n",
       "  </tbody>\n",
       "</table>\n",
       "</div>"
      ],
      "text/plain": [
       "   shop_id  item_id  date_block_num\n",
       "0       59    22154               0\n",
       "1       59     2552               0\n",
       "2       59     2554               0\n",
       "3       59     2555               0\n",
       "4       59     2564               0"
      ]
     },
     "execution_count": 11,
     "metadata": {},
     "output_type": "execute_result"
    }
   ],
   "source": [
    "# Create a grid with columns\n",
    "index_cols = ['shop_id','item_id','date_block_num']\n",
    "\n",
    "# For every month we create a grid for all shops/items pair\n",
    "grid = []\n",
    "for block_num in train['date_block_num'].unique():\n",
    "    cur_shops = train.loc[train['date_block_num']==block_num,'shop_id'].unique()\n",
    "    cur_items = train.loc[train['date_block_num']==block_num,'item_id'].unique()\n",
    "    grid.append(np.array(list(product(*[cur_shops,cur_items,[block_num]])),dtype='int32'))\n",
    "grid = pd.DataFrame(np.vstack(grid),columns=index_cols,dtype=np.int32)\n",
    "grid = data_compression(grid)\n",
    "grid.head()"
   ]
  },
  {
   "cell_type": "code",
   "execution_count": 12,
   "metadata": {},
   "outputs": [
    {
     "name": "stdout",
     "output_type": "stream",
     "text": [
      "<class 'pandas.core.frame.DataFrame'>\n",
      "RangeIndex: 10884508 entries, 0 to 10884507\n",
      "Data columns (total 3 columns):\n",
      " #   Column          Dtype\n",
      "---  ------          -----\n",
      " 0   shop_id         int8 \n",
      " 1   item_id         int16\n",
      " 2   date_block_num  int8 \n",
      "dtypes: int16(1), int8(2)\n",
      "memory usage: 41.5 MB\n"
     ]
    }
   ],
   "source": [
    "grid.info()"
   ]
  },
  {
   "cell_type": "code",
   "execution_count": 13,
   "metadata": {},
   "outputs": [],
   "source": [
    "# Create Mean Encodings\n",
    "# Group items per month, per shop, per item, sum the sales of the item, mean the price\n",
    "# There is a big difference between np.mean and pandas mean\n",
    "train_m = train.groupby(['date_block_num','shop_id','item_id']).agg({'item_cnt_day':'sum','item_price':np.mean}).reset_index()\n",
    "train_m = pd.merge(grid,train_m,on=['date_block_num','shop_id','item_id'],how='left').fillna(0)\n",
    "train_m = pd.merge(train_m,items,on='item_id',how='left')\n",
    "train_m = data_compression(train_m)"
   ]
  },
  {
   "cell_type": "code",
   "execution_count": 14,
   "metadata": {},
   "outputs": [],
   "source": [
    "# Making the mean encoded features\n",
    "for type_id in ['item_id', 'shop_id', 'item_category_id']:\n",
    "    for column_id, aggregator, aggtype in [('item_price',np.mean,'avg'),('item_cnt_day',np.sum,'sum'),('item_cnt_day',np.mean,'avg')]:\n",
    "        mean_df = train.groupby([type_id,'date_block_num']).aggregate(aggregator).reset_index()[[column_id,type_id,'date_block_num']]\n",
    "        mean_df.columns = [type_id+'_'+aggtype+'_'+column_id,type_id,'date_block_num']\n",
    "        train_m = pd.merge(train_m, mean_df, on=['date_block_num',type_id], how='left')\n",
    "        del mean_df\n",
    "        gc.collect()"
   ]
  },
  {
   "cell_type": "code",
   "execution_count": 15,
   "metadata": {},
   "outputs": [
    {
     "data": {
      "text/plain": [
       "22"
      ]
     },
     "execution_count": 15,
     "metadata": {},
     "output_type": "execute_result"
    }
   ],
   "source": [
    "del train\n",
    "gc.collect()"
   ]
  },
  {
   "cell_type": "markdown",
   "metadata": {},
   "source": [
    "### Fill NaNs"
   ]
  },
  {
   "cell_type": "code",
   "execution_count": 16,
   "metadata": {},
   "outputs": [
    {
     "name": "stdout",
     "output_type": "stream",
     "text": [
      "<class 'pandas.core.frame.DataFrame'>\n",
      "Int64Index: 10884508 entries, 0 to 10884507\n",
      "Columns: 15 entries, shop_id to item_category_id_avg_item_cnt_day\n",
      "dtypes: float16(5), float32(2), int16(4), int32(1), int8(3)\n",
      "memory usage: 425.6 MB\n"
     ]
    }
   ],
   "source": [
    "for f in train_m.columns:\n",
    "    if 'item_cnt' in f:\n",
    "        train_m[f] = train_m[f].fillna(0)\n",
    "    elif 'item_price' in f:\n",
    "        train_m[f] = train_m[f].fillna(train_m[f].median())\n",
    "\n",
    "# Compress data\n",
    "train_m = data_compression(train_m)\n",
    "train_m.info(verbose=False)"
   ]
  },
  {
   "cell_type": "markdown",
   "metadata": {},
   "source": [
    "### Create Lag Features"
   ]
  },
  {
   "cell_type": "code",
   "execution_count": 17,
   "metadata": {},
   "outputs": [
    {
     "data": {
      "text/plain": [
       "array(['item_id_avg_item_price', 'item_id_sum_item_cnt_day',\n",
       "       'item_id_avg_item_cnt_day', 'shop_id_avg_item_price',\n",
       "       'shop_id_sum_item_cnt_day', 'shop_id_avg_item_cnt_day',\n",
       "       'item_category_id_avg_item_price',\n",
       "       'item_category_id_sum_item_cnt_day',\n",
       "       'item_category_id_avg_item_cnt_day'], dtype=object)"
      ]
     },
     "execution_count": 17,
     "metadata": {},
     "output_type": "execute_result"
    }
   ],
   "source": [
    "# Check the positions of the base lag features\n",
    "train_m.columns.values[6:]"
   ]
  },
  {
   "cell_type": "code",
   "execution_count": 18,
   "metadata": {},
   "outputs": [],
   "source": [
    "# Get all the monthly features, which means the Mean Encoded fatures are all monthly based\n",
    "lag_features = list(train_m.columns[6:])+['item_cnt_day']\n",
    "# The selected months from current month\n",
    "lags = [1,2,3,6]"
   ]
  },
  {
   "cell_type": "code",
   "execution_count": 19,
   "metadata": {},
   "outputs": [
    {
     "name": "stdout",
     "output_type": "stream",
     "text": [
      "lag 1 processed\n",
      "lag 2 processed\n",
      "lag 3 processed\n",
      "lag 6 processed\n"
     ]
    }
   ],
   "source": [
    "for lag in lags:\n",
    "    train_new_df = train_m.copy()\n",
    "    # Get the current month\n",
    "    train_new_df['date_block_num'] += lag\n",
    "    train_new_df = train_new_df[['date_block_num','shop_id','item_id']+lag_features]\n",
    "    # Name the columns as lag features of the month\n",
    "    train_new_df.columns = ['date_block_num','shop_id','item_id'] + [x+'_lag_'+str(lag) for x in lag_features]\n",
    "    train_m = pd.merge(train_m,train_new_df,on=['date_block_num','shop_id','item_id'],how='left')\n",
    "    del train_new_df\n",
    "    gc.collect()\n",
    "    print ('lag %s processed' %lag)"
   ]
  },
  {
   "cell_type": "code",
   "execution_count": 20,
   "metadata": {},
   "outputs": [
    {
     "name": "stdout",
     "output_type": "stream",
     "text": [
      "<class 'pandas.core.frame.DataFrame'>\n",
      "Int64Index: 10884508 entries, 0 to 10884507\n",
      "Columns: 55 entries, shop_id to item_cnt_day_lag_6\n",
      "dtypes: float16(25), float32(6), int16(16), int32(5), int8(3)\n",
      "memory usage: 1.4 GB\n"
     ]
    }
   ],
   "source": [
    "# Fill NaNs\n",
    "for f in train_m.columns:\n",
    "    if 'item_cnt' in f:\n",
    "        train_m[f] = train_m[f].fillna(0)\n",
    "    elif 'item_price' in f:\n",
    "        train_m[f] = train_m[f].fillna(train_m[f].median())\n",
    "\n",
    "train_m = data_compression(train_m)\n",
    "train_m.info(verbose=False)"
   ]
  },
  {
   "cell_type": "markdown",
   "metadata": {},
   "source": [
    "### Clipping train data to make it similar to test set"
   ]
  },
  {
   "cell_type": "code",
   "execution_count": 21,
   "metadata": {},
   "outputs": [],
   "source": [
    "# Set the maximum clip value\n",
    "max_clip = 30\n",
    "train_m['item_cnt_day'] = train_m['item_cnt_day'].clip(0,max_clip).astype(np.float16)"
   ]
  },
  {
   "cell_type": "markdown",
   "metadata": {},
   "source": [
    "### Prepare test set"
   ]
  },
  {
   "cell_type": "code",
   "execution_count": 22,
   "metadata": {},
   "outputs": [
    {
     "name": "stdout",
     "output_type": "stream",
     "text": [
      "lag 1 processed\n",
      "lag 2 processed\n",
      "lag 3 processed\n",
      "lag 6 processed\n"
     ]
    }
   ],
   "source": [
    "# Add lag variables\n",
    "for lag in lags:\n",
    "    train_new_df = train_m.copy()\n",
    "    # Get the current month\n",
    "    train_new_df['date_block_num'] += lag\n",
    "    train_new_df = train_new_df[['date_block_num','shop_id','item_id']+lag_features]\n",
    "    # Name the columns as lag features of the month\n",
    "    train_new_df.columns = ['date_block_num','shop_id','item_id'] + [x+'_lag_'+str(lag) for x in lag_features]\n",
    "    test = pd.merge(test,train_new_df,on=['date_block_num','shop_id','item_id'],how='left')\n",
    "    del train_new_df\n",
    "    gc.collect()\n",
    "    print ('lag %s processed' %lag)"
   ]
  },
  {
   "cell_type": "code",
   "execution_count": 23,
   "metadata": {},
   "outputs": [],
   "source": [
    "# Fill NaNs\n",
    "for f in test.columns:\n",
    "    if 'item_cnt' in f:\n",
    "        test[f] = test[f].fillna(0)\n",
    "    elif 'item_price' in f:\n",
    "        test[f] = test[f].fillna(test[f].median())\n",
    "\n",
    "test = data_compression(test)"
   ]
  },
  {
   "cell_type": "markdown",
   "metadata": {},
   "source": [
    "### Drop all columns which are not lag features"
   ]
  },
  {
   "cell_type": "code",
   "execution_count": 24,
   "metadata": {},
   "outputs": [
    {
     "name": "stdout",
     "output_type": "stream",
     "text": [
      "Columns to drop\n",
      "['item_id_avg_item_price', 'item_id_sum_item_cnt_day', 'item_id_avg_item_cnt_day', 'shop_id_avg_item_price', 'shop_id_sum_item_cnt_day', 'shop_id_avg_item_cnt_day', 'item_category_id_avg_item_price', 'item_category_id_sum_item_cnt_day', 'item_category_id_avg_item_cnt_day', 'item_price']\n"
     ]
    }
   ],
   "source": [
    "cols_to_drop = lag_features[:-1] + ['item_price']\n",
    "print ('Columns to drop')\n",
    "print (cols_to_drop)"
   ]
  },
  {
   "cell_type": "code",
   "execution_count": 25,
   "metadata": {},
   "outputs": [],
   "source": [
    "train_cols = train_m.columns.values\n",
    "test_cols = test.columns.values\n",
    "for c in cols_to_drop:\n",
    "    if c in train_cols:\n",
    "        train_m = train_m.drop(c,axis=1)\n",
    "    if c in test_cols:\n",
    "        test = test.drop(c,axis=1)"
   ]
  },
  {
   "cell_type": "markdown",
   "metadata": {},
   "source": [
    "### Create new time related features"
   ]
  },
  {
   "cell_type": "code",
   "execution_count": 26,
   "metadata": {},
   "outputs": [],
   "source": [
    "# Month number\n",
    "train_m['month'] = train_m['date_block_num']%12\n",
    "train_m['month'] = train_m['month'].astype(np.int8)\n",
    "# Number of days in a month, no leap years here\n",
    "days = pd.Series([31,28,31,30,31,30,31,31,30,31,30,31])\n",
    "train_m['days'] = train_m['month'].map(days).astype(np.int8)\n",
    "\n",
    "test['month'] = 11\n",
    "test['month'] = test['month'].astype(np.int8)\n",
    "test['days'] = 30\n",
    "test['days'] = test['days'].astype(np.int8)"
   ]
  },
  {
   "cell_type": "markdown",
   "metadata": {},
   "source": [
    "### Check if lag variables in test set are correct"
   ]
  },
  {
   "cell_type": "code",
   "execution_count": 27,
   "metadata": {},
   "outputs": [
    {
     "data": {
      "text/plain": [
       "{'item_cnt_day'}"
      ]
     },
     "execution_count": 27,
     "metadata": {},
     "output_type": "execute_result"
    }
   ],
   "source": [
    "# Assert all the columns are the same except target column\n",
    "set(train_m.columns.values) ^ set(test.columns.values)"
   ]
  },
  {
   "cell_type": "code",
   "execution_count": 28,
   "metadata": {},
   "outputs": [
    {
     "data": {
      "text/html": [
       "<div>\n",
       "<style scoped>\n",
       "    .dataframe tbody tr th:only-of-type {\n",
       "        vertical-align: middle;\n",
       "    }\n",
       "\n",
       "    .dataframe tbody tr th {\n",
       "        vertical-align: top;\n",
       "    }\n",
       "\n",
       "    .dataframe thead th {\n",
       "        text-align: right;\n",
       "    }\n",
       "</style>\n",
       "<table border=\"1\" class=\"dataframe\">\n",
       "  <thead>\n",
       "    <tr style=\"text-align: right;\">\n",
       "      <th></th>\n",
       "      <th>shop_id</th>\n",
       "      <th>item_id</th>\n",
       "      <th>date_block_num</th>\n",
       "      <th>item_cnt_day</th>\n",
       "      <th>item_category_id</th>\n",
       "      <th>item_id_avg_item_price_lag_1</th>\n",
       "      <th>item_id_sum_item_cnt_day_lag_1</th>\n",
       "      <th>item_id_avg_item_cnt_day_lag_1</th>\n",
       "      <th>shop_id_avg_item_price_lag_1</th>\n",
       "      <th>shop_id_sum_item_cnt_day_lag_1</th>\n",
       "      <th>shop_id_avg_item_cnt_day_lag_1</th>\n",
       "      <th>item_category_id_avg_item_price_lag_1</th>\n",
       "      <th>item_category_id_sum_item_cnt_day_lag_1</th>\n",
       "      <th>item_category_id_avg_item_cnt_day_lag_1</th>\n",
       "      <th>item_cnt_day_lag_1</th>\n",
       "      <th>item_id_avg_item_price_lag_2</th>\n",
       "      <th>item_id_sum_item_cnt_day_lag_2</th>\n",
       "      <th>item_id_avg_item_cnt_day_lag_2</th>\n",
       "      <th>shop_id_avg_item_price_lag_2</th>\n",
       "      <th>shop_id_sum_item_cnt_day_lag_2</th>\n",
       "      <th>shop_id_avg_item_cnt_day_lag_2</th>\n",
       "      <th>item_category_id_avg_item_price_lag_2</th>\n",
       "      <th>item_category_id_sum_item_cnt_day_lag_2</th>\n",
       "      <th>item_category_id_avg_item_cnt_day_lag_2</th>\n",
       "      <th>item_cnt_day_lag_2</th>\n",
       "      <th>item_id_avg_item_price_lag_3</th>\n",
       "      <th>item_id_sum_item_cnt_day_lag_3</th>\n",
       "      <th>item_id_avg_item_cnt_day_lag_3</th>\n",
       "      <th>shop_id_avg_item_price_lag_3</th>\n",
       "      <th>shop_id_sum_item_cnt_day_lag_3</th>\n",
       "      <th>shop_id_avg_item_cnt_day_lag_3</th>\n",
       "      <th>item_category_id_avg_item_price_lag_3</th>\n",
       "      <th>item_category_id_sum_item_cnt_day_lag_3</th>\n",
       "      <th>item_category_id_avg_item_cnt_day_lag_3</th>\n",
       "      <th>item_cnt_day_lag_3</th>\n",
       "      <th>item_id_avg_item_price_lag_6</th>\n",
       "      <th>item_id_sum_item_cnt_day_lag_6</th>\n",
       "      <th>item_id_avg_item_cnt_day_lag_6</th>\n",
       "      <th>shop_id_avg_item_price_lag_6</th>\n",
       "      <th>shop_id_sum_item_cnt_day_lag_6</th>\n",
       "      <th>shop_id_avg_item_cnt_day_lag_6</th>\n",
       "      <th>item_category_id_avg_item_price_lag_6</th>\n",
       "      <th>item_category_id_sum_item_cnt_day_lag_6</th>\n",
       "      <th>item_category_id_avg_item_cnt_day_lag_6</th>\n",
       "      <th>item_cnt_day_lag_6</th>\n",
       "      <th>month</th>\n",
       "      <th>days</th>\n",
       "    </tr>\n",
       "  </thead>\n",
       "  <tbody>\n",
       "    <tr>\n",
       "      <th>0</th>\n",
       "      <td>59</td>\n",
       "      <td>22154</td>\n",
       "      <td>0</td>\n",
       "      <td>1.00</td>\n",
       "      <td>37</td>\n",
       "      <td>299.00</td>\n",
       "      <td>0</td>\n",
       "      <td>0.00</td>\n",
       "      <td>879.00</td>\n",
       "      <td>0</td>\n",
       "      <td>0.00</td>\n",
       "      <td>379.00</td>\n",
       "      <td>0</td>\n",
       "      <td>0.00</td>\n",
       "      <td>0</td>\n",
       "      <td>299.00</td>\n",
       "      <td>0</td>\n",
       "      <td>0.00</td>\n",
       "      <td>872.00</td>\n",
       "      <td>0</td>\n",
       "      <td>0.00</td>\n",
       "      <td>379.00</td>\n",
       "      <td>0</td>\n",
       "      <td>0.00</td>\n",
       "      <td>0</td>\n",
       "      <td>299.00</td>\n",
       "      <td>0</td>\n",
       "      <td>0.00</td>\n",
       "      <td>868.00</td>\n",
       "      <td>0</td>\n",
       "      <td>0.00</td>\n",
       "      <td>376.00</td>\n",
       "      <td>0</td>\n",
       "      <td>0.00</td>\n",
       "      <td>0</td>\n",
       "      <td>299.00</td>\n",
       "      <td>0</td>\n",
       "      <td>0.00</td>\n",
       "      <td>847.00</td>\n",
       "      <td>0</td>\n",
       "      <td>0.00</td>\n",
       "      <td>376.00</td>\n",
       "      <td>0</td>\n",
       "      <td>0.00</td>\n",
       "      <td>0</td>\n",
       "      <td>0</td>\n",
       "      <td>31</td>\n",
       "    </tr>\n",
       "    <tr>\n",
       "      <th>1</th>\n",
       "      <td>59</td>\n",
       "      <td>2552</td>\n",
       "      <td>0</td>\n",
       "      <td>0.00</td>\n",
       "      <td>58</td>\n",
       "      <td>299.00</td>\n",
       "      <td>0</td>\n",
       "      <td>0.00</td>\n",
       "      <td>879.00</td>\n",
       "      <td>0</td>\n",
       "      <td>0.00</td>\n",
       "      <td>379.00</td>\n",
       "      <td>0</td>\n",
       "      <td>0.00</td>\n",
       "      <td>0</td>\n",
       "      <td>299.00</td>\n",
       "      <td>0</td>\n",
       "      <td>0.00</td>\n",
       "      <td>872.00</td>\n",
       "      <td>0</td>\n",
       "      <td>0.00</td>\n",
       "      <td>379.00</td>\n",
       "      <td>0</td>\n",
       "      <td>0.00</td>\n",
       "      <td>0</td>\n",
       "      <td>299.00</td>\n",
       "      <td>0</td>\n",
       "      <td>0.00</td>\n",
       "      <td>868.00</td>\n",
       "      <td>0</td>\n",
       "      <td>0.00</td>\n",
       "      <td>376.00</td>\n",
       "      <td>0</td>\n",
       "      <td>0.00</td>\n",
       "      <td>0</td>\n",
       "      <td>299.00</td>\n",
       "      <td>0</td>\n",
       "      <td>0.00</td>\n",
       "      <td>847.00</td>\n",
       "      <td>0</td>\n",
       "      <td>0.00</td>\n",
       "      <td>376.00</td>\n",
       "      <td>0</td>\n",
       "      <td>0.00</td>\n",
       "      <td>0</td>\n",
       "      <td>0</td>\n",
       "      <td>31</td>\n",
       "    </tr>\n",
       "    <tr>\n",
       "      <th>2</th>\n",
       "      <td>59</td>\n",
       "      <td>2554</td>\n",
       "      <td>0</td>\n",
       "      <td>0.00</td>\n",
       "      <td>58</td>\n",
       "      <td>299.00</td>\n",
       "      <td>0</td>\n",
       "      <td>0.00</td>\n",
       "      <td>879.00</td>\n",
       "      <td>0</td>\n",
       "      <td>0.00</td>\n",
       "      <td>379.00</td>\n",
       "      <td>0</td>\n",
       "      <td>0.00</td>\n",
       "      <td>0</td>\n",
       "      <td>299.00</td>\n",
       "      <td>0</td>\n",
       "      <td>0.00</td>\n",
       "      <td>872.00</td>\n",
       "      <td>0</td>\n",
       "      <td>0.00</td>\n",
       "      <td>379.00</td>\n",
       "      <td>0</td>\n",
       "      <td>0.00</td>\n",
       "      <td>0</td>\n",
       "      <td>299.00</td>\n",
       "      <td>0</td>\n",
       "      <td>0.00</td>\n",
       "      <td>868.00</td>\n",
       "      <td>0</td>\n",
       "      <td>0.00</td>\n",
       "      <td>376.00</td>\n",
       "      <td>0</td>\n",
       "      <td>0.00</td>\n",
       "      <td>0</td>\n",
       "      <td>299.00</td>\n",
       "      <td>0</td>\n",
       "      <td>0.00</td>\n",
       "      <td>847.00</td>\n",
       "      <td>0</td>\n",
       "      <td>0.00</td>\n",
       "      <td>376.00</td>\n",
       "      <td>0</td>\n",
       "      <td>0.00</td>\n",
       "      <td>0</td>\n",
       "      <td>0</td>\n",
       "      <td>31</td>\n",
       "    </tr>\n",
       "    <tr>\n",
       "      <th>3</th>\n",
       "      <td>59</td>\n",
       "      <td>2555</td>\n",
       "      <td>0</td>\n",
       "      <td>0.00</td>\n",
       "      <td>56</td>\n",
       "      <td>299.00</td>\n",
       "      <td>0</td>\n",
       "      <td>0.00</td>\n",
       "      <td>879.00</td>\n",
       "      <td>0</td>\n",
       "      <td>0.00</td>\n",
       "      <td>379.00</td>\n",
       "      <td>0</td>\n",
       "      <td>0.00</td>\n",
       "      <td>0</td>\n",
       "      <td>299.00</td>\n",
       "      <td>0</td>\n",
       "      <td>0.00</td>\n",
       "      <td>872.00</td>\n",
       "      <td>0</td>\n",
       "      <td>0.00</td>\n",
       "      <td>379.00</td>\n",
       "      <td>0</td>\n",
       "      <td>0.00</td>\n",
       "      <td>0</td>\n",
       "      <td>299.00</td>\n",
       "      <td>0</td>\n",
       "      <td>0.00</td>\n",
       "      <td>868.00</td>\n",
       "      <td>0</td>\n",
       "      <td>0.00</td>\n",
       "      <td>376.00</td>\n",
       "      <td>0</td>\n",
       "      <td>0.00</td>\n",
       "      <td>0</td>\n",
       "      <td>299.00</td>\n",
       "      <td>0</td>\n",
       "      <td>0.00</td>\n",
       "      <td>847.00</td>\n",
       "      <td>0</td>\n",
       "      <td>0.00</td>\n",
       "      <td>376.00</td>\n",
       "      <td>0</td>\n",
       "      <td>0.00</td>\n",
       "      <td>0</td>\n",
       "      <td>0</td>\n",
       "      <td>31</td>\n",
       "    </tr>\n",
       "    <tr>\n",
       "      <th>4</th>\n",
       "      <td>59</td>\n",
       "      <td>2564</td>\n",
       "      <td>0</td>\n",
       "      <td>0.00</td>\n",
       "      <td>59</td>\n",
       "      <td>299.00</td>\n",
       "      <td>0</td>\n",
       "      <td>0.00</td>\n",
       "      <td>879.00</td>\n",
       "      <td>0</td>\n",
       "      <td>0.00</td>\n",
       "      <td>379.00</td>\n",
       "      <td>0</td>\n",
       "      <td>0.00</td>\n",
       "      <td>0</td>\n",
       "      <td>299.00</td>\n",
       "      <td>0</td>\n",
       "      <td>0.00</td>\n",
       "      <td>872.00</td>\n",
       "      <td>0</td>\n",
       "      <td>0.00</td>\n",
       "      <td>379.00</td>\n",
       "      <td>0</td>\n",
       "      <td>0.00</td>\n",
       "      <td>0</td>\n",
       "      <td>299.00</td>\n",
       "      <td>0</td>\n",
       "      <td>0.00</td>\n",
       "      <td>868.00</td>\n",
       "      <td>0</td>\n",
       "      <td>0.00</td>\n",
       "      <td>376.00</td>\n",
       "      <td>0</td>\n",
       "      <td>0.00</td>\n",
       "      <td>0</td>\n",
       "      <td>299.00</td>\n",
       "      <td>0</td>\n",
       "      <td>0.00</td>\n",
       "      <td>847.00</td>\n",
       "      <td>0</td>\n",
       "      <td>0.00</td>\n",
       "      <td>376.00</td>\n",
       "      <td>0</td>\n",
       "      <td>0.00</td>\n",
       "      <td>0</td>\n",
       "      <td>0</td>\n",
       "      <td>31</td>\n",
       "    </tr>\n",
       "  </tbody>\n",
       "</table>\n",
       "</div>"
      ],
      "text/plain": [
       "   shop_id  item_id  date_block_num  item_cnt_day  item_category_id  \\\n",
       "0       59    22154               0          1.00                37   \n",
       "1       59     2552               0          0.00                58   \n",
       "2       59     2554               0          0.00                58   \n",
       "3       59     2555               0          0.00                56   \n",
       "4       59     2564               0          0.00                59   \n",
       "\n",
       "   item_id_avg_item_price_lag_1  item_id_sum_item_cnt_day_lag_1  \\\n",
       "0                        299.00                               0   \n",
       "1                        299.00                               0   \n",
       "2                        299.00                               0   \n",
       "3                        299.00                               0   \n",
       "4                        299.00                               0   \n",
       "\n",
       "   item_id_avg_item_cnt_day_lag_1  shop_id_avg_item_price_lag_1  \\\n",
       "0                            0.00                        879.00   \n",
       "1                            0.00                        879.00   \n",
       "2                            0.00                        879.00   \n",
       "3                            0.00                        879.00   \n",
       "4                            0.00                        879.00   \n",
       "\n",
       "   shop_id_sum_item_cnt_day_lag_1  shop_id_avg_item_cnt_day_lag_1  \\\n",
       "0                               0                            0.00   \n",
       "1                               0                            0.00   \n",
       "2                               0                            0.00   \n",
       "3                               0                            0.00   \n",
       "4                               0                            0.00   \n",
       "\n",
       "   item_category_id_avg_item_price_lag_1  \\\n",
       "0                                 379.00   \n",
       "1                                 379.00   \n",
       "2                                 379.00   \n",
       "3                                 379.00   \n",
       "4                                 379.00   \n",
       "\n",
       "   item_category_id_sum_item_cnt_day_lag_1  \\\n",
       "0                                        0   \n",
       "1                                        0   \n",
       "2                                        0   \n",
       "3                                        0   \n",
       "4                                        0   \n",
       "\n",
       "   item_category_id_avg_item_cnt_day_lag_1  item_cnt_day_lag_1  \\\n",
       "0                                     0.00                   0   \n",
       "1                                     0.00                   0   \n",
       "2                                     0.00                   0   \n",
       "3                                     0.00                   0   \n",
       "4                                     0.00                   0   \n",
       "\n",
       "   item_id_avg_item_price_lag_2  item_id_sum_item_cnt_day_lag_2  \\\n",
       "0                        299.00                               0   \n",
       "1                        299.00                               0   \n",
       "2                        299.00                               0   \n",
       "3                        299.00                               0   \n",
       "4                        299.00                               0   \n",
       "\n",
       "   item_id_avg_item_cnt_day_lag_2  shop_id_avg_item_price_lag_2  \\\n",
       "0                            0.00                        872.00   \n",
       "1                            0.00                        872.00   \n",
       "2                            0.00                        872.00   \n",
       "3                            0.00                        872.00   \n",
       "4                            0.00                        872.00   \n",
       "\n",
       "   shop_id_sum_item_cnt_day_lag_2  shop_id_avg_item_cnt_day_lag_2  \\\n",
       "0                               0                            0.00   \n",
       "1                               0                            0.00   \n",
       "2                               0                            0.00   \n",
       "3                               0                            0.00   \n",
       "4                               0                            0.00   \n",
       "\n",
       "   item_category_id_avg_item_price_lag_2  \\\n",
       "0                                 379.00   \n",
       "1                                 379.00   \n",
       "2                                 379.00   \n",
       "3                                 379.00   \n",
       "4                                 379.00   \n",
       "\n",
       "   item_category_id_sum_item_cnt_day_lag_2  \\\n",
       "0                                        0   \n",
       "1                                        0   \n",
       "2                                        0   \n",
       "3                                        0   \n",
       "4                                        0   \n",
       "\n",
       "   item_category_id_avg_item_cnt_day_lag_2  item_cnt_day_lag_2  \\\n",
       "0                                     0.00                   0   \n",
       "1                                     0.00                   0   \n",
       "2                                     0.00                   0   \n",
       "3                                     0.00                   0   \n",
       "4                                     0.00                   0   \n",
       "\n",
       "   item_id_avg_item_price_lag_3  item_id_sum_item_cnt_day_lag_3  \\\n",
       "0                        299.00                               0   \n",
       "1                        299.00                               0   \n",
       "2                        299.00                               0   \n",
       "3                        299.00                               0   \n",
       "4                        299.00                               0   \n",
       "\n",
       "   item_id_avg_item_cnt_day_lag_3  shop_id_avg_item_price_lag_3  \\\n",
       "0                            0.00                        868.00   \n",
       "1                            0.00                        868.00   \n",
       "2                            0.00                        868.00   \n",
       "3                            0.00                        868.00   \n",
       "4                            0.00                        868.00   \n",
       "\n",
       "   shop_id_sum_item_cnt_day_lag_3  shop_id_avg_item_cnt_day_lag_3  \\\n",
       "0                               0                            0.00   \n",
       "1                               0                            0.00   \n",
       "2                               0                            0.00   \n",
       "3                               0                            0.00   \n",
       "4                               0                            0.00   \n",
       "\n",
       "   item_category_id_avg_item_price_lag_3  \\\n",
       "0                                 376.00   \n",
       "1                                 376.00   \n",
       "2                                 376.00   \n",
       "3                                 376.00   \n",
       "4                                 376.00   \n",
       "\n",
       "   item_category_id_sum_item_cnt_day_lag_3  \\\n",
       "0                                        0   \n",
       "1                                        0   \n",
       "2                                        0   \n",
       "3                                        0   \n",
       "4                                        0   \n",
       "\n",
       "   item_category_id_avg_item_cnt_day_lag_3  item_cnt_day_lag_3  \\\n",
       "0                                     0.00                   0   \n",
       "1                                     0.00                   0   \n",
       "2                                     0.00                   0   \n",
       "3                                     0.00                   0   \n",
       "4                                     0.00                   0   \n",
       "\n",
       "   item_id_avg_item_price_lag_6  item_id_sum_item_cnt_day_lag_6  \\\n",
       "0                        299.00                               0   \n",
       "1                        299.00                               0   \n",
       "2                        299.00                               0   \n",
       "3                        299.00                               0   \n",
       "4                        299.00                               0   \n",
       "\n",
       "   item_id_avg_item_cnt_day_lag_6  shop_id_avg_item_price_lag_6  \\\n",
       "0                            0.00                        847.00   \n",
       "1                            0.00                        847.00   \n",
       "2                            0.00                        847.00   \n",
       "3                            0.00                        847.00   \n",
       "4                            0.00                        847.00   \n",
       "\n",
       "   shop_id_sum_item_cnt_day_lag_6  shop_id_avg_item_cnt_day_lag_6  \\\n",
       "0                               0                            0.00   \n",
       "1                               0                            0.00   \n",
       "2                               0                            0.00   \n",
       "3                               0                            0.00   \n",
       "4                               0                            0.00   \n",
       "\n",
       "   item_category_id_avg_item_price_lag_6  \\\n",
       "0                                 376.00   \n",
       "1                                 376.00   \n",
       "2                                 376.00   \n",
       "3                                 376.00   \n",
       "4                                 376.00   \n",
       "\n",
       "   item_category_id_sum_item_cnt_day_lag_6  \\\n",
       "0                                        0   \n",
       "1                                        0   \n",
       "2                                        0   \n",
       "3                                        0   \n",
       "4                                        0   \n",
       "\n",
       "   item_category_id_avg_item_cnt_day_lag_6  item_cnt_day_lag_6  month  days  \n",
       "0                                     0.00                   0      0    31  \n",
       "1                                     0.00                   0      0    31  \n",
       "2                                     0.00                   0      0    31  \n",
       "3                                     0.00                   0      0    31  \n",
       "4                                     0.00                   0      0    31  "
      ]
     },
     "execution_count": 28,
     "metadata": {},
     "output_type": "execute_result"
    }
   ],
   "source": [
    "train_m.head()"
   ]
  },
  {
   "cell_type": "code",
   "execution_count": 29,
   "metadata": {},
   "outputs": [
    {
     "data": {
      "text/html": [
       "<div>\n",
       "<style scoped>\n",
       "    .dataframe tbody tr th:only-of-type {\n",
       "        vertical-align: middle;\n",
       "    }\n",
       "\n",
       "    .dataframe tbody tr th {\n",
       "        vertical-align: top;\n",
       "    }\n",
       "\n",
       "    .dataframe thead th {\n",
       "        text-align: right;\n",
       "    }\n",
       "</style>\n",
       "<table border=\"1\" class=\"dataframe\">\n",
       "  <thead>\n",
       "    <tr style=\"text-align: right;\">\n",
       "      <th></th>\n",
       "      <th>shop_id</th>\n",
       "      <th>item_id</th>\n",
       "      <th>date_block_num</th>\n",
       "      <th>item_category_id</th>\n",
       "      <th>item_id_avg_item_price_lag_1</th>\n",
       "      <th>item_id_sum_item_cnt_day_lag_1</th>\n",
       "      <th>item_id_avg_item_cnt_day_lag_1</th>\n",
       "      <th>shop_id_avg_item_price_lag_1</th>\n",
       "      <th>shop_id_sum_item_cnt_day_lag_1</th>\n",
       "      <th>shop_id_avg_item_cnt_day_lag_1</th>\n",
       "      <th>item_category_id_avg_item_price_lag_1</th>\n",
       "      <th>item_category_id_sum_item_cnt_day_lag_1</th>\n",
       "      <th>item_category_id_avg_item_cnt_day_lag_1</th>\n",
       "      <th>item_cnt_day_lag_1</th>\n",
       "      <th>item_id_avg_item_price_lag_2</th>\n",
       "      <th>item_id_sum_item_cnt_day_lag_2</th>\n",
       "      <th>item_id_avg_item_cnt_day_lag_2</th>\n",
       "      <th>shop_id_avg_item_price_lag_2</th>\n",
       "      <th>shop_id_sum_item_cnt_day_lag_2</th>\n",
       "      <th>shop_id_avg_item_cnt_day_lag_2</th>\n",
       "      <th>item_category_id_avg_item_price_lag_2</th>\n",
       "      <th>item_category_id_sum_item_cnt_day_lag_2</th>\n",
       "      <th>item_category_id_avg_item_cnt_day_lag_2</th>\n",
       "      <th>item_cnt_day_lag_2</th>\n",
       "      <th>item_id_avg_item_price_lag_3</th>\n",
       "      <th>item_id_sum_item_cnt_day_lag_3</th>\n",
       "      <th>item_id_avg_item_cnt_day_lag_3</th>\n",
       "      <th>shop_id_avg_item_price_lag_3</th>\n",
       "      <th>shop_id_sum_item_cnt_day_lag_3</th>\n",
       "      <th>shop_id_avg_item_cnt_day_lag_3</th>\n",
       "      <th>item_category_id_avg_item_price_lag_3</th>\n",
       "      <th>item_category_id_sum_item_cnt_day_lag_3</th>\n",
       "      <th>item_category_id_avg_item_cnt_day_lag_3</th>\n",
       "      <th>item_cnt_day_lag_3</th>\n",
       "      <th>item_id_avg_item_price_lag_6</th>\n",
       "      <th>item_id_sum_item_cnt_day_lag_6</th>\n",
       "      <th>item_id_avg_item_cnt_day_lag_6</th>\n",
       "      <th>shop_id_avg_item_price_lag_6</th>\n",
       "      <th>shop_id_sum_item_cnt_day_lag_6</th>\n",
       "      <th>shop_id_avg_item_cnt_day_lag_6</th>\n",
       "      <th>item_category_id_avg_item_price_lag_6</th>\n",
       "      <th>item_category_id_sum_item_cnt_day_lag_6</th>\n",
       "      <th>item_category_id_avg_item_cnt_day_lag_6</th>\n",
       "      <th>item_cnt_day_lag_6</th>\n",
       "      <th>month</th>\n",
       "      <th>days</th>\n",
       "    </tr>\n",
       "  </thead>\n",
       "  <tbody>\n",
       "    <tr>\n",
       "      <th>0</th>\n",
       "      <td>5</td>\n",
       "      <td>5037</td>\n",
       "      <td>34</td>\n",
       "      <td>19</td>\n",
       "      <td>1499.00</td>\n",
       "      <td>25</td>\n",
       "      <td>1.00</td>\n",
       "      <td>1028.00</td>\n",
       "      <td>1054</td>\n",
       "      <td>1.00</td>\n",
       "      <td>1680.00</td>\n",
       "      <td>2450</td>\n",
       "      <td>1.00</td>\n",
       "      <td>0</td>\n",
       "      <td>936.68</td>\n",
       "      <td>111</td>\n",
       "      <td>1.00</td>\n",
       "      <td>1037.00</td>\n",
       "      <td>1098</td>\n",
       "      <td>1.00</td>\n",
       "      <td>1360.00</td>\n",
       "      <td>3998</td>\n",
       "      <td>1.00</td>\n",
       "      <td>1</td>\n",
       "      <td>894.59</td>\n",
       "      <td>119</td>\n",
       "      <td>1.00</td>\n",
       "      <td>911.00</td>\n",
       "      <td>1297</td>\n",
       "      <td>1.00</td>\n",
       "      <td>1140.00</td>\n",
       "      <td>4674</td>\n",
       "      <td>1.00</td>\n",
       "      <td>3</td>\n",
       "      <td>1542.87</td>\n",
       "      <td>87</td>\n",
       "      <td>1.00</td>\n",
       "      <td>959.00</td>\n",
       "      <td>1013</td>\n",
       "      <td>1.00</td>\n",
       "      <td>1418.00</td>\n",
       "      <td>3407</td>\n",
       "      <td>1.00</td>\n",
       "      <td>1</td>\n",
       "      <td>11</td>\n",
       "      <td>30</td>\n",
       "    </tr>\n",
       "    <tr>\n",
       "      <th>1</th>\n",
       "      <td>5</td>\n",
       "      <td>5320</td>\n",
       "      <td>34</td>\n",
       "      <td>55</td>\n",
       "      <td>449.00</td>\n",
       "      <td>0</td>\n",
       "      <td>0.00</td>\n",
       "      <td>1240.00</td>\n",
       "      <td>0</td>\n",
       "      <td>0.00</td>\n",
       "      <td>510.00</td>\n",
       "      <td>0</td>\n",
       "      <td>0.00</td>\n",
       "      <td>0</td>\n",
       "      <td>432.00</td>\n",
       "      <td>0</td>\n",
       "      <td>0.00</td>\n",
       "      <td>1204.00</td>\n",
       "      <td>0</td>\n",
       "      <td>0.00</td>\n",
       "      <td>511.00</td>\n",
       "      <td>0</td>\n",
       "      <td>0.00</td>\n",
       "      <td>0</td>\n",
       "      <td>437.10</td>\n",
       "      <td>0</td>\n",
       "      <td>0.00</td>\n",
       "      <td>969.00</td>\n",
       "      <td>0</td>\n",
       "      <td>0.00</td>\n",
       "      <td>488.00</td>\n",
       "      <td>0</td>\n",
       "      <td>0.00</td>\n",
       "      <td>0</td>\n",
       "      <td>437.75</td>\n",
       "      <td>0</td>\n",
       "      <td>0.00</td>\n",
       "      <td>1099.00</td>\n",
       "      <td>0</td>\n",
       "      <td>0.00</td>\n",
       "      <td>559.00</td>\n",
       "      <td>0</td>\n",
       "      <td>0.00</td>\n",
       "      <td>0</td>\n",
       "      <td>11</td>\n",
       "      <td>30</td>\n",
       "    </tr>\n",
       "    <tr>\n",
       "      <th>2</th>\n",
       "      <td>5</td>\n",
       "      <td>5233</td>\n",
       "      <td>34</td>\n",
       "      <td>19</td>\n",
       "      <td>1199.00</td>\n",
       "      <td>42</td>\n",
       "      <td>1.00</td>\n",
       "      <td>1028.00</td>\n",
       "      <td>1054</td>\n",
       "      <td>1.00</td>\n",
       "      <td>1680.00</td>\n",
       "      <td>2450</td>\n",
       "      <td>1.00</td>\n",
       "      <td>1</td>\n",
       "      <td>711.71</td>\n",
       "      <td>80</td>\n",
       "      <td>1.00</td>\n",
       "      <td>1037.00</td>\n",
       "      <td>1098</td>\n",
       "      <td>1.00</td>\n",
       "      <td>1360.00</td>\n",
       "      <td>3998</td>\n",
       "      <td>1.00</td>\n",
       "      <td>3</td>\n",
       "      <td>712.15</td>\n",
       "      <td>150</td>\n",
       "      <td>1.00</td>\n",
       "      <td>911.00</td>\n",
       "      <td>1297</td>\n",
       "      <td>1.00</td>\n",
       "      <td>1140.00</td>\n",
       "      <td>4674</td>\n",
       "      <td>1.00</td>\n",
       "      <td>1</td>\n",
       "      <td>790.03</td>\n",
       "      <td>71</td>\n",
       "      <td>1.00</td>\n",
       "      <td>959.00</td>\n",
       "      <td>1013</td>\n",
       "      <td>1.00</td>\n",
       "      <td>1418.00</td>\n",
       "      <td>3407</td>\n",
       "      <td>1.00</td>\n",
       "      <td>3</td>\n",
       "      <td>11</td>\n",
       "      <td>30</td>\n",
       "    </tr>\n",
       "    <tr>\n",
       "      <th>3</th>\n",
       "      <td>5</td>\n",
       "      <td>5232</td>\n",
       "      <td>34</td>\n",
       "      <td>23</td>\n",
       "      <td>1190.14</td>\n",
       "      <td>29</td>\n",
       "      <td>1.00</td>\n",
       "      <td>1028.00</td>\n",
       "      <td>1054</td>\n",
       "      <td>1.00</td>\n",
       "      <td>1796.00</td>\n",
       "      <td>2213</td>\n",
       "      <td>1.00</td>\n",
       "      <td>0</td>\n",
       "      <td>703.49</td>\n",
       "      <td>48</td>\n",
       "      <td>1.00</td>\n",
       "      <td>1037.00</td>\n",
       "      <td>1098</td>\n",
       "      <td>1.00</td>\n",
       "      <td>1269.00</td>\n",
       "      <td>3610</td>\n",
       "      <td>1.00</td>\n",
       "      <td>0</td>\n",
       "      <td>642.47</td>\n",
       "      <td>65</td>\n",
       "      <td>1.00</td>\n",
       "      <td>911.00</td>\n",
       "      <td>1297</td>\n",
       "      <td>1.00</td>\n",
       "      <td>1164.00</td>\n",
       "      <td>3666</td>\n",
       "      <td>1.00</td>\n",
       "      <td>1</td>\n",
       "      <td>437.75</td>\n",
       "      <td>0</td>\n",
       "      <td>0.00</td>\n",
       "      <td>1099.00</td>\n",
       "      <td>0</td>\n",
       "      <td>0.00</td>\n",
       "      <td>559.00</td>\n",
       "      <td>0</td>\n",
       "      <td>0.00</td>\n",
       "      <td>0</td>\n",
       "      <td>11</td>\n",
       "      <td>30</td>\n",
       "    </tr>\n",
       "    <tr>\n",
       "      <th>4</th>\n",
       "      <td>5</td>\n",
       "      <td>5268</td>\n",
       "      <td>34</td>\n",
       "      <td>20</td>\n",
       "      <td>449.00</td>\n",
       "      <td>0</td>\n",
       "      <td>0.00</td>\n",
       "      <td>1240.00</td>\n",
       "      <td>0</td>\n",
       "      <td>0.00</td>\n",
       "      <td>510.00</td>\n",
       "      <td>0</td>\n",
       "      <td>0.00</td>\n",
       "      <td>0</td>\n",
       "      <td>432.00</td>\n",
       "      <td>0</td>\n",
       "      <td>0.00</td>\n",
       "      <td>1204.00</td>\n",
       "      <td>0</td>\n",
       "      <td>0.00</td>\n",
       "      <td>511.00</td>\n",
       "      <td>0</td>\n",
       "      <td>0.00</td>\n",
       "      <td>0</td>\n",
       "      <td>437.10</td>\n",
       "      <td>0</td>\n",
       "      <td>0.00</td>\n",
       "      <td>969.00</td>\n",
       "      <td>0</td>\n",
       "      <td>0.00</td>\n",
       "      <td>488.00</td>\n",
       "      <td>0</td>\n",
       "      <td>0.00</td>\n",
       "      <td>0</td>\n",
       "      <td>437.75</td>\n",
       "      <td>0</td>\n",
       "      <td>0.00</td>\n",
       "      <td>1099.00</td>\n",
       "      <td>0</td>\n",
       "      <td>0.00</td>\n",
       "      <td>559.00</td>\n",
       "      <td>0</td>\n",
       "      <td>0.00</td>\n",
       "      <td>0</td>\n",
       "      <td>11</td>\n",
       "      <td>30</td>\n",
       "    </tr>\n",
       "  </tbody>\n",
       "</table>\n",
       "</div>"
      ],
      "text/plain": [
       "   shop_id  item_id  date_block_num  item_category_id  \\\n",
       "0        5     5037              34                19   \n",
       "1        5     5320              34                55   \n",
       "2        5     5233              34                19   \n",
       "3        5     5232              34                23   \n",
       "4        5     5268              34                20   \n",
       "\n",
       "   item_id_avg_item_price_lag_1  item_id_sum_item_cnt_day_lag_1  \\\n",
       "0                       1499.00                              25   \n",
       "1                        449.00                               0   \n",
       "2                       1199.00                              42   \n",
       "3                       1190.14                              29   \n",
       "4                        449.00                               0   \n",
       "\n",
       "   item_id_avg_item_cnt_day_lag_1  shop_id_avg_item_price_lag_1  \\\n",
       "0                            1.00                       1028.00   \n",
       "1                            0.00                       1240.00   \n",
       "2                            1.00                       1028.00   \n",
       "3                            1.00                       1028.00   \n",
       "4                            0.00                       1240.00   \n",
       "\n",
       "   shop_id_sum_item_cnt_day_lag_1  shop_id_avg_item_cnt_day_lag_1  \\\n",
       "0                            1054                            1.00   \n",
       "1                               0                            0.00   \n",
       "2                            1054                            1.00   \n",
       "3                            1054                            1.00   \n",
       "4                               0                            0.00   \n",
       "\n",
       "   item_category_id_avg_item_price_lag_1  \\\n",
       "0                                1680.00   \n",
       "1                                 510.00   \n",
       "2                                1680.00   \n",
       "3                                1796.00   \n",
       "4                                 510.00   \n",
       "\n",
       "   item_category_id_sum_item_cnt_day_lag_1  \\\n",
       "0                                     2450   \n",
       "1                                        0   \n",
       "2                                     2450   \n",
       "3                                     2213   \n",
       "4                                        0   \n",
       "\n",
       "   item_category_id_avg_item_cnt_day_lag_1  item_cnt_day_lag_1  \\\n",
       "0                                     1.00                   0   \n",
       "1                                     0.00                   0   \n",
       "2                                     1.00                   1   \n",
       "3                                     1.00                   0   \n",
       "4                                     0.00                   0   \n",
       "\n",
       "   item_id_avg_item_price_lag_2  item_id_sum_item_cnt_day_lag_2  \\\n",
       "0                        936.68                             111   \n",
       "1                        432.00                               0   \n",
       "2                        711.71                              80   \n",
       "3                        703.49                              48   \n",
       "4                        432.00                               0   \n",
       "\n",
       "   item_id_avg_item_cnt_day_lag_2  shop_id_avg_item_price_lag_2  \\\n",
       "0                            1.00                       1037.00   \n",
       "1                            0.00                       1204.00   \n",
       "2                            1.00                       1037.00   \n",
       "3                            1.00                       1037.00   \n",
       "4                            0.00                       1204.00   \n",
       "\n",
       "   shop_id_sum_item_cnt_day_lag_2  shop_id_avg_item_cnt_day_lag_2  \\\n",
       "0                            1098                            1.00   \n",
       "1                               0                            0.00   \n",
       "2                            1098                            1.00   \n",
       "3                            1098                            1.00   \n",
       "4                               0                            0.00   \n",
       "\n",
       "   item_category_id_avg_item_price_lag_2  \\\n",
       "0                                1360.00   \n",
       "1                                 511.00   \n",
       "2                                1360.00   \n",
       "3                                1269.00   \n",
       "4                                 511.00   \n",
       "\n",
       "   item_category_id_sum_item_cnt_day_lag_2  \\\n",
       "0                                     3998   \n",
       "1                                        0   \n",
       "2                                     3998   \n",
       "3                                     3610   \n",
       "4                                        0   \n",
       "\n",
       "   item_category_id_avg_item_cnt_day_lag_2  item_cnt_day_lag_2  \\\n",
       "0                                     1.00                   1   \n",
       "1                                     0.00                   0   \n",
       "2                                     1.00                   3   \n",
       "3                                     1.00                   0   \n",
       "4                                     0.00                   0   \n",
       "\n",
       "   item_id_avg_item_price_lag_3  item_id_sum_item_cnt_day_lag_3  \\\n",
       "0                        894.59                             119   \n",
       "1                        437.10                               0   \n",
       "2                        712.15                             150   \n",
       "3                        642.47                              65   \n",
       "4                        437.10                               0   \n",
       "\n",
       "   item_id_avg_item_cnt_day_lag_3  shop_id_avg_item_price_lag_3  \\\n",
       "0                            1.00                        911.00   \n",
       "1                            0.00                        969.00   \n",
       "2                            1.00                        911.00   \n",
       "3                            1.00                        911.00   \n",
       "4                            0.00                        969.00   \n",
       "\n",
       "   shop_id_sum_item_cnt_day_lag_3  shop_id_avg_item_cnt_day_lag_3  \\\n",
       "0                            1297                            1.00   \n",
       "1                               0                            0.00   \n",
       "2                            1297                            1.00   \n",
       "3                            1297                            1.00   \n",
       "4                               0                            0.00   \n",
       "\n",
       "   item_category_id_avg_item_price_lag_3  \\\n",
       "0                                1140.00   \n",
       "1                                 488.00   \n",
       "2                                1140.00   \n",
       "3                                1164.00   \n",
       "4                                 488.00   \n",
       "\n",
       "   item_category_id_sum_item_cnt_day_lag_3  \\\n",
       "0                                     4674   \n",
       "1                                        0   \n",
       "2                                     4674   \n",
       "3                                     3666   \n",
       "4                                        0   \n",
       "\n",
       "   item_category_id_avg_item_cnt_day_lag_3  item_cnt_day_lag_3  \\\n",
       "0                                     1.00                   3   \n",
       "1                                     0.00                   0   \n",
       "2                                     1.00                   1   \n",
       "3                                     1.00                   1   \n",
       "4                                     0.00                   0   \n",
       "\n",
       "   item_id_avg_item_price_lag_6  item_id_sum_item_cnt_day_lag_6  \\\n",
       "0                       1542.87                              87   \n",
       "1                        437.75                               0   \n",
       "2                        790.03                              71   \n",
       "3                        437.75                               0   \n",
       "4                        437.75                               0   \n",
       "\n",
       "   item_id_avg_item_cnt_day_lag_6  shop_id_avg_item_price_lag_6  \\\n",
       "0                            1.00                        959.00   \n",
       "1                            0.00                       1099.00   \n",
       "2                            1.00                        959.00   \n",
       "3                            0.00                       1099.00   \n",
       "4                            0.00                       1099.00   \n",
       "\n",
       "   shop_id_sum_item_cnt_day_lag_6  shop_id_avg_item_cnt_day_lag_6  \\\n",
       "0                            1013                            1.00   \n",
       "1                               0                            0.00   \n",
       "2                            1013                            1.00   \n",
       "3                               0                            0.00   \n",
       "4                               0                            0.00   \n",
       "\n",
       "   item_category_id_avg_item_price_lag_6  \\\n",
       "0                                1418.00   \n",
       "1                                 559.00   \n",
       "2                                1418.00   \n",
       "3                                 559.00   \n",
       "4                                 559.00   \n",
       "\n",
       "   item_category_id_sum_item_cnt_day_lag_6  \\\n",
       "0                                     3407   \n",
       "1                                        0   \n",
       "2                                     3407   \n",
       "3                                        0   \n",
       "4                                        0   \n",
       "\n",
       "   item_category_id_avg_item_cnt_day_lag_6  item_cnt_day_lag_6  month  days  \n",
       "0                                     1.00                   1     11    30  \n",
       "1                                     0.00                   0     11    30  \n",
       "2                                     1.00                   3     11    30  \n",
       "3                                     0.00                   0     11    30  \n",
       "4                                     0.00                   0     11    30  "
      ]
     },
     "execution_count": 29,
     "metadata": {},
     "output_type": "execute_result"
    }
   ],
   "source": [
    "test.head()"
   ]
  },
  {
   "cell_type": "markdown",
   "metadata": {},
   "source": [
    "It seems that the order of the columns are the same for train & test.<br>\n",
    "(Except for the target column 'item_cnt_day')"
   ]
  },
  {
   "cell_type": "code",
   "execution_count": 30,
   "metadata": {},
   "outputs": [
    {
     "data": {
      "text/html": [
       "<div>\n",
       "<style scoped>\n",
       "    .dataframe tbody tr th:only-of-type {\n",
       "        vertical-align: middle;\n",
       "    }\n",
       "\n",
       "    .dataframe tbody tr th {\n",
       "        vertical-align: top;\n",
       "    }\n",
       "\n",
       "    .dataframe thead th {\n",
       "        text-align: right;\n",
       "    }\n",
       "</style>\n",
       "<table border=\"1\" class=\"dataframe\">\n",
       "  <thead>\n",
       "    <tr style=\"text-align: right;\">\n",
       "      <th></th>\n",
       "      <th>shop_id</th>\n",
       "      <th>item_id</th>\n",
       "      <th>item_cnt_day_lag_1</th>\n",
       "      <th>item_cnt_day_lag_2</th>\n",
       "      <th>item_cnt_day_lag_3</th>\n",
       "    </tr>\n",
       "  </thead>\n",
       "  <tbody>\n",
       "    <tr>\n",
       "      <th>0</th>\n",
       "      <td>5</td>\n",
       "      <td>5037</td>\n",
       "      <td>0</td>\n",
       "      <td>1</td>\n",
       "      <td>3</td>\n",
       "    </tr>\n",
       "    <tr>\n",
       "      <th>1</th>\n",
       "      <td>5</td>\n",
       "      <td>5320</td>\n",
       "      <td>0</td>\n",
       "      <td>0</td>\n",
       "      <td>0</td>\n",
       "    </tr>\n",
       "    <tr>\n",
       "      <th>2</th>\n",
       "      <td>5</td>\n",
       "      <td>5233</td>\n",
       "      <td>1</td>\n",
       "      <td>3</td>\n",
       "      <td>1</td>\n",
       "    </tr>\n",
       "    <tr>\n",
       "      <th>3</th>\n",
       "      <td>5</td>\n",
       "      <td>5232</td>\n",
       "      <td>0</td>\n",
       "      <td>0</td>\n",
       "      <td>1</td>\n",
       "    </tr>\n",
       "    <tr>\n",
       "      <th>4</th>\n",
       "      <td>5</td>\n",
       "      <td>5268</td>\n",
       "      <td>0</td>\n",
       "      <td>0</td>\n",
       "      <td>0</td>\n",
       "    </tr>\n",
       "  </tbody>\n",
       "</table>\n",
       "</div>"
      ],
      "text/plain": [
       "   shop_id  item_id  item_cnt_day_lag_1  item_cnt_day_lag_2  \\\n",
       "0        5     5037                   0                   1   \n",
       "1        5     5320                   0                   0   \n",
       "2        5     5233                   1                   3   \n",
       "3        5     5232                   0                   0   \n",
       "4        5     5268                   0                   0   \n",
       "\n",
       "   item_cnt_day_lag_3  \n",
       "0                   3  \n",
       "1                   0  \n",
       "2                   1  \n",
       "3                   1  \n",
       "4                   0  "
      ]
     },
     "execution_count": 30,
     "metadata": {},
     "output_type": "execute_result"
    }
   ],
   "source": [
    "test[['shop_id','item_id']+['item_cnt_day_lag_'+str(x) for x in [1,2,3]]].head()"
   ]
  },
  {
   "cell_type": "code",
   "execution_count": 31,
   "metadata": {},
   "outputs": [
    {
     "name": "stdout",
     "output_type": "stream",
     "text": [
      "10820113   0.00\n",
      "Name: item_cnt_day, dtype: float16\n",
      "10581628   1.00\n",
      "Name: item_cnt_day, dtype: float16\n",
      "10372045   3.00\n",
      "Name: item_cnt_day, dtype: float16\n"
     ]
    }
   ],
   "source": [
    "print(train_m[train_m['shop_id'] == 5][train_m['item_id'] == 5037][train_m['date_block_num'] == 33]['item_cnt_day'])\n",
    "print(train_m[train_m['shop_id'] == 5][train_m['item_id'] == 5037][train_m['date_block_num'] == 32]['item_cnt_day'])\n",
    "print(train_m[train_m['shop_id'] == 5][train_m['item_id'] == 5037][train_m['date_block_num'] == 31]['item_cnt_day'])"
   ]
  },
  {
   "cell_type": "markdown",
   "metadata": {},
   "source": [
    "### Take the recent bit of data\n",
    "Data too far in the past are considered to be less relevant"
   ]
  },
  {
   "cell_type": "code",
   "execution_count": 32,
   "metadata": {},
   "outputs": [],
   "source": [
    "train_m = train_m[train_m['date_block_num']>12]"
   ]
  },
  {
   "cell_type": "markdown",
   "metadata": {},
   "source": [
    "### Split into train & validation\n",
    "Validation: The last month 'date_block_num'==33<br>\n",
    "Train: Everything else"
   ]
  },
  {
   "cell_type": "code",
   "execution_count": 33,
   "metadata": {},
   "outputs": [],
   "source": [
    "train_set = train_m[train_m['date_block_num']<33]\n",
    "val_set = train_m[train_m['date_block_num']==33]"
   ]
  },
  {
   "cell_type": "code",
   "execution_count": 34,
   "metadata": {},
   "outputs": [
    {
     "name": "stdout",
     "output_type": "stream",
     "text": [
      "(5820464, 47)\n",
      "(238084, 47)\n",
      "(214200, 46)\n"
     ]
    }
   ],
   "source": [
    "print (train_set.shape)\n",
    "print (val_set.shape)\n",
    "print (test.shape)"
   ]
  },
  {
   "cell_type": "markdown",
   "metadata": {},
   "source": [
    "### Export the preprocessed data"
   ]
  },
  {
   "cell_type": "code",
   "execution_count": 35,
   "metadata": {},
   "outputs": [],
   "source": [
    "# Save data\n",
    "train_set.to_pickle('train.pkl')\n",
    "val_set.to_pickle('val.pkl')\n",
    "test.to_pickle('test.pkl')"
   ]
  },
  {
   "cell_type": "code",
   "execution_count": 36,
   "metadata": {},
   "outputs": [
    {
     "data": {
      "text/plain": [
       "22"
      ]
     },
     "execution_count": 36,
     "metadata": {},
     "output_type": "execute_result"
    }
   ],
   "source": [
    "del train_m\n",
    "gc.collect()"
   ]
  },
  {
   "cell_type": "markdown",
   "metadata": {},
   "source": [
    "Modelling\n",
    "3 distinctively different models are used:\n",
    "1. Ridge Regression (Linear)\n",
    "2. xgboost (Tree based)\n",
    "3. Random Forest (Tree based)\n",
    "\n",
    "After each model has been trained, a stacked ensemble model which includes the above 3 are been trained as well."
   ]
  },
  {
   "cell_type": "markdown",
   "metadata": {},
   "source": [
    "**Data preparation**"
   ]
  },
  {
   "cell_type": "code",
   "execution_count": 37,
   "metadata": {},
   "outputs": [],
   "source": [
    "# divide data into x & y\n",
    "train_x = train_set.drop(['item_cnt_day'],axis=1)\n",
    "train_y = train_set['item_cnt_day']\n",
    "val_x = val_set.drop(['item_cnt_day'],axis=1)\n",
    "val_y = val_set['item_cnt_day']\n",
    "\n",
    "features = list(train_x.columns.values)"
   ]
  },
  {
   "cell_type": "code",
   "execution_count": 38,
   "metadata": {},
   "outputs": [
    {
     "name": "stdout",
     "output_type": "stream",
     "text": [
      "(5820464, 46)\n",
      "(5820464,)\n",
      "(238084, 46)\n",
      "(238084,)\n",
      "(214200, 46)\n"
     ]
    }
   ],
   "source": [
    "# Check if the data sets have equal amount of features\n",
    "print (train_x.shape)\n",
    "print (train_y.shape)\n",
    "print (val_x.shape)\n",
    "print (val_y.shape)\n",
    "print (test.shape)"
   ]
  },
  {
   "cell_type": "code",
   "execution_count": 40,
   "metadata": {},
   "outputs": [
    {
     "data": {
      "text/plain": [
       "0"
      ]
     },
     "execution_count": 40,
     "metadata": {},
     "output_type": "execute_result"
    }
   ],
   "source": [
    "del train_set\n",
    "del val_set\n",
    "gc.collect()"
   ]
  },
  {
   "cell_type": "code",
   "execution_count": 41,
   "metadata": {},
   "outputs": [],
   "source": [
    "# For saving data & output results / models\n",
    "def post_processing(model,model_name,train_x,val_x,test_x,train_y,val_y,test):\n",
    "    # Here we once again clip the output to 0~20\n",
    "    train_pred = model.predict(train_x).clip(0, 20)\n",
    "    val_pred = model.predict(val_x).clip(0, 20)\n",
    "    test_pred = model.predict(test_x).clip(0, 20)\n",
    "\n",
    "    # Get rmse scores\n",
    "    train_rmse = np.sqrt(mean_squared_error(train_y, train_pred))\n",
    "    print(\"Train RMSE: %f\" % (train_rmse))\n",
    "    val_rmse = np.sqrt(mean_squared_error(val_y, val_pred))\n",
    "    print(\"Val RMSE: %f\" % (val_rmse))\n",
    "    \n",
    "    # Export submission\n",
    "    submission = pd.DataFrame({'ID':test.index,'item_cnt_month': test_pred})\n",
    "    submission.to_csv('%s_submission.csv'%model_name,index=False)\n",
    "\n",
    "    # save model to file\n",
    "    pickle.dump(lm, open(\"%s_model.pickle\" %model_name, \"wb\"))\n",
    "    return train_pred,val_pred,test_pred"
   ]
  },
  {
   "cell_type": "code",
   "execution_count": 42,
   "metadata": {},
   "outputs": [],
   "source": [
    "# For plotting feature importance\n",
    "def plot_feature_importances(importances,indices,features,title,dimensions):\n",
    "    plt.figure(figsize=dimensions)\n",
    "    plt.title(title)\n",
    "    plt.barh(range(len(indices)), importances[indices], color='b', align='center')\n",
    "    plt.yticks(range(len(indices)), [features[i] for i in indices])\n",
    "    plt.xlabel('Relative Importance')\n",
    "    plt.show()   "
   ]
  },
  {
   "cell_type": "markdown",
   "metadata": {},
   "source": [
    "### Ridge Regression"
   ]
  },
  {
   "cell_type": "code",
   "execution_count": 43,
   "metadata": {},
   "outputs": [],
   "source": [
    "# Normalise data\n",
    "scaler = preprocessing.StandardScaler()\n",
    "scaler.fit(train_x.values)\n",
    "train_x_norm = scaler.transform(train_x.values)\n",
    "val_x_norm = scaler.transform(val_x.values)\n",
    "test_norm = scaler.transform(test.values)"
   ]
  },
  {
   "cell_type": "code",
   "execution_count": 44,
   "metadata": {},
   "outputs": [
    {
     "name": "stdout",
     "output_type": "stream",
     "text": [
      "Training time: 4.964299440383911\n"
     ]
    }
   ],
   "source": [
    "# Training\n",
    "gc.collect()\n",
    "ts = time.time()\n",
    "# Training\n",
    "lm = linear_model.Ridge()\n",
    "lm.fit(train_x_norm,train_y)\n",
    "print ('Training time: %s' %(time.time() - ts))"
   ]
  },
  {
   "cell_type": "code",
   "execution_count": 45,
   "metadata": {},
   "outputs": [
    {
     "name": "stdout",
     "output_type": "stream",
     "text": [
      "Train RMSE: 1.153216\n",
      "Val RMSE: 1.169679\n"
     ]
    }
   ],
   "source": [
    "# Performance and test predictions\n",
    "train_pred1,val_pred1,test_pred1 = post_processing(lm,'ridge',train_x_norm,val_x_norm,test_norm,train_y,val_y,test)"
   ]
  },
  {
   "cell_type": "code",
   "execution_count": 46,
   "metadata": {},
   "outputs": [
    {
     "data": {
      "image/png": "[encoded data removed]",
      "text/plain": [
       "<Figure size 576x1152 with 1 Axes>"
      ]
     },
     "metadata": {
      "needs_background": "light"
     },
     "output_type": "display_data"
    }
   ],
   "source": [
    "# Feature Importance\n",
    "importances = abs(lm.coef_)\n",
    "indices = np.argsort(importances)\n",
    "title = 'Linear Regression Feature Importances'\n",
    "plot_feature_importances(importances,indices,features,title,(8,16))"
   ]
  },
  {
   "cell_type": "code",
   "execution_count": 47,
   "metadata": {},
   "outputs": [
    {
     "data": {
      "text/plain": [
       "6731"
      ]
     },
     "execution_count": 47,
     "metadata": {},
     "output_type": "execute_result"
    }
   ],
   "source": [
    "del train_x_norm\n",
    "del val_x_norm\n",
    "del test_norm\n",
    "gc.collect()"
   ]
  },
  {
   "cell_type": "markdown",
   "metadata": {},
   "source": [
    "### xgboost"
   ]
  },
  {
   "cell_type": "code",
   "execution_count": 48,
   "metadata": {},
   "outputs": [
    {
     "name": "stdout",
     "output_type": "stream",
     "text": [
      "[00:30:18] WARNING: /workspace/src/learner.cc:686: Tree method is automatically selected to be 'approx' for faster speed. To use old behavior (exact greedy algorithm on single machine), set tree_method to 'exact'.\n",
      "[00:31:04] INFO: /workspace/src/tree/updater_prune.cc:74: tree pruning end, 1 roots, 476 extra nodes, 0 pruned nodes, max_depth=8\n",
      "[00:31:42] INFO: /workspace/src/tree/updater_prune.cc:74: tree pruning end, 1 roots, 472 extra nodes, 0 pruned nodes, max_depth=8\n",
      "[00:32:18] INFO: /workspace/src/tree/updater_prune.cc:74: tree pruning end, 1 roots, 476 extra nodes, 0 pruned nodes, max_depth=8\n",
      "[00:32:55] INFO: /workspace/src/tree/updater_prune.cc:74: tree pruning end, 1 roots, 488 extra nodes, 0 pruned nodes, max_depth=8\n",
      "[00:33:32] INFO: /workspace/src/tree/updater_prune.cc:74: tree pruning end, 1 roots, 492 extra nodes, 0 pruned nodes, max_depth=8\n",
      "[00:34:09] INFO: /workspace/src/tree/updater_prune.cc:74: tree pruning end, 1 roots, 420 extra nodes, 0 pruned nodes, max_depth=8\n",
      "[00:34:47] INFO: /workspace/src/tree/updater_prune.cc:74: tree pruning end, 1 roots, 502 extra nodes, 0 pruned nodes, max_depth=8\n",
      "[00:35:25] INFO: /workspace/src/tree/updater_prune.cc:74: tree pruning end, 1 roots, 492 extra nodes, 0 pruned nodes, max_depth=8\n",
      "[00:36:02] INFO: /workspace/src/tree/updater_prune.cc:74: tree pruning end, 1 roots, 442 extra nodes, 0 pruned nodes, max_depth=8\n",
      "[00:36:39] INFO: /workspace/src/tree/updater_prune.cc:74: tree pruning end, 1 roots, 486 extra nodes, 0 pruned nodes, max_depth=8\n",
      "Training time: 389.572687625885\n"
     ]
    }
   ],
   "source": [
    "# Training\n",
    "gc.collect()\n",
    "ts = time.time()\n",
    "xgbtrain = xgb.DMatrix(train_x.values, train_y.values)\n",
    "\n",
    "param = {'max_depth':8, \n",
    "         'subsample':1,\n",
    "         'min_child_weight':0.5,\n",
    "         'eta':0.3, \n",
    "         'num_round':1000, \n",
    "         'seed':1,\n",
    "         'verbosity':2,\n",
    "         'eval_metric':'rmse'} # random parameters\n",
    "\n",
    "bst = xgb.train(param, xgbtrain)\n",
    "print ('Training time: %s' %(time.time() - ts))"
   ]
  },
  {
   "cell_type": "code",
   "execution_count": 49,
   "metadata": {},
   "outputs": [
    {
     "name": "stdout",
     "output_type": "stream",
     "text": [
      "Train RMSE: 0.952974\n",
      "Val RMSE: 1.077657\n"
     ]
    }
   ],
   "source": [
    "# Performance and test predictions\n",
    "train_pred2,val_pred2,test_pred2 = post_processing(bst,'xgboost',xgb.DMatrix(train_x.values),xgb.DMatrix(val_x.values),xgb.DMatrix(test.values),train_y,val_y,test)"
   ]
  },
  {
   "cell_type": "code",
   "execution_count": 50,
   "metadata": {},
   "outputs": [
    {
     "data": {
      "image/png": "[encoded data removed]",
      "text/plain": [
       "<Figure size 576x1152 with 1 Axes>"
      ]
     },
     "metadata": {
      "needs_background": "light"
     },
     "output_type": "display_data"
    }
   ],
   "source": [
    "# Feature Importance\n",
    "import operator\n",
    "importance = sorted(bst.get_score().items(), key=operator.itemgetter(1))\n",
    "importance_v = np.asarray([x[1] for x in importance],dtype=np.int16)\n",
    "indices = np.asarray([int(x[0].replace('f','')) for x in importance],dtype=np.int8)\n",
    "title = 'xgboost Feature Importances'\n",
    "\n",
    "plt.figure(figsize=(8,16))\n",
    "plt.title(title)\n",
    "plt.barh(range(len(indices)), importance_v, color='b', align='center')\n",
    "plt.yticks(range(len(indices)), [features[i] for i in indices])\n",
    "plt.xlabel('Relative Importance')\n",
    "plt.show()   "
   ]
  },
  {
   "cell_type": "markdown",
   "metadata": {},
   "source": [
    "### Random Forest"
   ]
  },
  {
   "cell_type": "code",
   "execution_count": 51,
   "metadata": {},
   "outputs": [
    {
     "name": "stderr",
     "output_type": "stream",
     "text": [
      "[Parallel(n_jobs=-1)]: Using backend ThreadingBackend with 4 concurrent workers.\n",
      "[Parallel(n_jobs=-1)]: Done  42 tasks      | elapsed:  5.4min\n",
      "[Parallel(n_jobs=-1)]: Done 192 tasks      | elapsed: 23.8min\n"
     ]
    },
    {
     "name": "stdout",
     "output_type": "stream",
     "text": [
      "Training time: 1490.1836333274841\n"
     ]
    },
    {
     "name": "stderr",
     "output_type": "stream",
     "text": [
      "[Parallel(n_jobs=-1)]: Done 200 out of 200 | elapsed: 24.8min finished\n"
     ]
    }
   ],
   "source": [
    "# Training\n",
    "gc.collect()\n",
    "ts = time.time()\n",
    "rf = RandomForestRegressor(\n",
    "    bootstrap=True,\n",
    "    max_depth=30,\n",
    "    max_features=3,\n",
    "    min_samples_leaf=5,\n",
    "    min_samples_split=12,\n",
    "    n_estimators=200,\n",
    "    random_state=42,\n",
    "    verbose=1,\n",
    "    n_jobs=-1\n",
    ")\n",
    "rf.fit(train_x.values,train_y.values)\n",
    "print ('Training time: %s' %(time.time() - ts))"
   ]
  },
  {
   "cell_type": "code",
   "execution_count": 52,
   "metadata": {},
   "outputs": [
    {
     "name": "stderr",
     "output_type": "stream",
     "text": [
      "[Parallel(n_jobs=4)]: Using backend ThreadingBackend with 4 concurrent workers.\n",
      "[Parallel(n_jobs=4)]: Done  42 tasks      | elapsed:   32.5s\n",
      "[Parallel(n_jobs=4)]: Done 192 tasks      | elapsed:  2.4min\n",
      "[Parallel(n_jobs=4)]: Done 200 out of 200 | elapsed:  2.5min finished\n",
      "[Parallel(n_jobs=4)]: Using backend ThreadingBackend with 4 concurrent workers.\n",
      "[Parallel(n_jobs=4)]: Done  42 tasks      | elapsed:    1.1s\n",
      "[Parallel(n_jobs=4)]: Done 192 tasks      | elapsed:    5.2s\n",
      "[Parallel(n_jobs=4)]: Done 200 out of 200 | elapsed:    5.4s finished\n",
      "[Parallel(n_jobs=4)]: Using backend ThreadingBackend with 4 concurrent workers.\n",
      "[Parallel(n_jobs=4)]: Done  42 tasks      | elapsed:    1.0s\n",
      "[Parallel(n_jobs=4)]: Done 192 tasks      | elapsed:    4.3s\n",
      "[Parallel(n_jobs=4)]: Done 200 out of 200 | elapsed:    4.5s finished\n"
     ]
    },
    {
     "name": "stdout",
     "output_type": "stream",
     "text": [
      "Train RMSE: 0.720878\n",
      "Val RMSE: 1.052174\n"
     ]
    }
   ],
   "source": [
    "# Performance and test predictions\n",
    "train_pred3,val_pred3,test_pred3 = post_processing(rf,'rf',train_x,val_x,test,train_y,val_y,test)"
   ]
  },
  {
   "cell_type": "code",
   "execution_count": 53,
   "metadata": {},
   "outputs": [
    {
     "data": {
      "image/png": "[encoded data removed]",
      "text/plain": [
       "<Figure size 576x1152 with 1 Axes>"
      ]
     },
     "metadata": {
      "needs_background": "light"
     },
     "output_type": "display_data"
    }
   ],
   "source": [
    "# Feature Importance\n",
    "importances = rf.feature_importances_\n",
    "indices = np.argsort(importances)\n",
    "title = 'Random Forest Feature Importances'\n",
    "plot_feature_importances(importances,indices,features,title,(8,16))"
   ]
  },
  {
   "cell_type": "markdown",
   "metadata": {},
   "source": [
    "## Stacking\n",
    "Use previous results to do stacking instead of rerunning all the models again.<br>\n",
    "It saves time and computation resources."
   ]
  },
  {
   "cell_type": "code",
   "execution_count": 54,
   "metadata": {},
   "outputs": [],
   "source": [
    "# Making data\n",
    "train_stack = pd.DataFrame({'lm':train_pred1,'xgboost':train_pred2,'rf':train_pred3})\n",
    "val_stack = pd.DataFrame({'lm':val_pred1,'xgboost':val_pred2,'rf':val_pred3})\n",
    "test_stack = pd.DataFrame({'lm':test_pred1,'xgboost':test_pred2,'rf':test_pred3})"
   ]
  },
  {
   "cell_type": "code",
   "execution_count": 55,
   "metadata": {},
   "outputs": [],
   "source": [
    "# Normalise data\n",
    "scaler = preprocessing.StandardScaler()\n",
    "scaler.fit(train_stack.values)\n",
    "train_stack = scaler.transform(train_stack.values)\n",
    "val_stack = scaler.transform(val_stack.values)\n",
    "test_stack = scaler.transform(test_stack.values)"
   ]
  },
  {
   "cell_type": "code",
   "execution_count": 56,
   "metadata": {},
   "outputs": [
    {
     "name": "stdout",
     "output_type": "stream",
     "text": [
      "Training time: 0.3823983669281006\n"
     ]
    }
   ],
   "source": [
    "# Training\n",
    "gc.collect()\n",
    "ts = time.time()\n",
    "# Training\n",
    "stack_lm = linear_model.Ridge()\n",
    "stack_lm.fit(train_stack,train_y)\n",
    "print ('Training time: %s' %(time.time() - ts))"
   ]
  },
  {
   "cell_type": "code",
   "execution_count": 57,
   "metadata": {},
   "outputs": [
    {
     "name": "stdout",
     "output_type": "stream",
     "text": [
      "Train RMSE: 0.667797\n",
      "Val RMSE: 1.077787\n"
     ]
    },
    {
     "data": {
      "text/plain": [
       "(array([0.71730153, 0.17213309, 2.46025839, ..., 0.        , 0.        ,\n",
       "        0.        ]),\n",
       " array([0.01463041, 1.25234718, 0.48188362, ..., 0.12076665, 0.        ,\n",
       "        0.        ]),\n",
       " array([1.04254927, 0.53962342, 1.58146722, ..., 0.00496113, 0.        ,\n",
       "        0.        ]))"
      ]
     },
     "execution_count": 57,
     "metadata": {},
     "output_type": "execute_result"
    }
   ],
   "source": [
    "# Performance and test predictions\n",
    "post_processing(stack_lm,'stack',train_stack,val_stack,test_stack,train_y,val_y,test)"
   ]
  },
  {
   "cell_type": "code",
   "execution_count": 58,
   "metadata": {},
   "outputs": [
    {
     "data": {
      "image/png": "[encoded data removed]",
      "text/plain": [
       "<Figure size 576x432 with 1 Axes>"
      ]
     },
     "metadata": {
      "needs_background": "light"
     },
     "output_type": "display_data"
    }
   ],
   "source": [
    "# Feature Importance\n",
    "importances = abs(stack_lm.coef_)\n",
    "indices = np.argsort(importances)\n",
    "title = 'Stack Model Feature Importances'\n",
    "plot_feature_importances(importances,indices,features,title,(8,6))"
   ]
  },
  {
   "cell_type": "code",
   "execution_count": null,
   "metadata": {},
   "outputs": [],
   "source": []
  }
 ],
 "metadata": {
  "kernelspec": {
   "display_name": "Python 3",
   "language": "python",
   "name": "python3"
  },
  "language_info": {
   "codemirror_mode": {
    "name": "ipython",
    "version": 3
   },
   "file_extension": ".py",
   "mimetype": "text/x-python",
   "name": "python",
   "nbconvert_exporter": "python",
   "pygments_lexer": "ipython3",
   "version": "3.8.3"
  }
 },
 "nbformat": 4,
 "nbformat_minor": 4
}
